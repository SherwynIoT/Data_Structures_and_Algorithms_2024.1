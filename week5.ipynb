{
 "cells": [
  {
   "cell_type": "code",
   "execution_count": 1,
   "metadata": {},
   "outputs": [
    {
     "name": "stdout",
     "output_type": "stream",
     "text": [
      "['đỏ', 'đỏ', 'đỏ', 'đỏ', 'trắng', 'trắng', 'xanh', 'xanh', 'xanh']\n"
     ]
    }
   ],
   "source": [
    "def color_to_number(color):\n",
    "    if color == 'đỏ':\n",
    "        return 0\n",
    "    elif color == 'trắng':\n",
    "        return 1\n",
    "    elif color == 'xanh':\n",
    "        return 2\n",
    "\n",
    "def number_to_color(number):\n",
    "    if number == 0:\n",
    "        return 'đỏ'\n",
    "    elif number == 1:\n",
    "        return 'trắng'\n",
    "    elif number == 2:\n",
    "        return 'xanh'\n",
    "\n",
    "def bubble_sort(arr):\n",
    "    n = len(arr)\n",
    "    for i in range(n):\n",
    "        for j in range(0, n - i - 1):\n",
    "            if arr[j] > arr[j + 1]:\n",
    "                arr[j], arr[j + 1] = arr[j + 1], arr[j]\n",
    "\n",
    "def sort_colors(colors):\n",
    "    number_list = [color_to_number(color) for color in colors]\n",
    "    \n",
    "    bubble_sort(number_list)\n",
    "    \n",
    "    sorted_colors = [number_to_color(number) for number in number_list]\n",
    "    \n",
    "    return sorted_colors\n",
    "\n",
    "colors = ['xanh', 'đỏ', 'xanh', 'đỏ', 'đỏ', 'trắng', 'đỏ', 'xanh', 'trắng']\n",
    "\n",
    "sorted_colors = sort_colors(colors)\n",
    "\n",
    "print(sorted_colors)\n"
   ]
  },
  {
   "cell_type": "code",
   "execution_count": 18,
   "metadata": {},
   "outputs": [
    {
     "name": "stdout",
     "output_type": "stream",
     "text": [
      "Các số Blum nhỏ hơn 1000 là: [9, 21, 33, 49, 57, 69, 77, 93, 121, 129, 133, 141, 161, 177, 201, 209, 213, 217, 237, 249, 253, 301, 309, 321, 329, 341, 361, 381, 393, 413, 417, 437, 453, 469, 473, 489, 497, 501, 517, 529, 537, 553, 573, 581, 589, 597, 633, 649, 669, 681, 713, 717, 721, 737, 749, 753, 781, 789, 813, 817, 849, 869, 889, 893, 913, 917, 921, 933, 961, 973, 989, 993]\n",
      "Các cặp số Blum có tổng cũng là số Blum nhỏ hơn 1000: []\n",
      "Số 77 là một số Blum và có trong danh sách.\n",
      "31\n",
      "72\n"
     ]
    }
   ],
   "source": [
    "import math\n",
    "\n",
    "def is_prime(n):\n",
    "    if n < 2:\n",
    "        return False\n",
    "    for i in range(2, int(math.sqrt(n)) + 1):\n",
    "        if n % i == 0:\n",
    "            return False\n",
    "    return True\n",
    "\n",
    "\n",
    "def blum_primes(N):\n",
    "    primes = []\n",
    "    for num in range(3, N+1):\n",
    "        if is_prime(num) and num % 4 == 3:\n",
    "            primes.append(num)\n",
    "    return primes\n",
    "\n",
    "def generate_blum_numbers(N):\n",
    "    primes_blum_list = blum_primes(int(N))\n",
    "    blum_numbers = []\n",
    "\n",
    "    for i in range(len(primes_blum_list)):\n",
    "        for j in range(i, len(primes_blum_list)):\n",
    "            blum_num = primes_blum_list[i] * primes_blum_list[j]\n",
    "            if blum_num < N:\n",
    "                blum_numbers.append(blum_num)\n",
    "    return sorted(blum_numbers)\n",
    "\n",
    "def find_blum_pairs(blum_numbers, N):\n",
    "    blum_set = set(blum_numbers)\n",
    "    blum_pairs = []\n",
    "    \n",
    "    for i in range(len(blum_numbers)):\n",
    "        for j in range(i, len(blum_numbers)):\n",
    "            pair_sum = blum_numbers[i] + blum_numbers[j]\n",
    "            if pair_sum < N and pair_sum in blum_set:\n",
    "                blum_pairs.append((blum_numbers[i], blum_numbers[j], pair_sum))\n",
    "    \n",
    "    return blum_pairs\n",
    "\n",
    "def is_blum_number_in_list(blum_numbers, M):\n",
    "    return M in blum_numbers\n",
    "\n",
    "N = 1000\n",
    "M = 77\n",
    "\n",
    "blum_numbers = generate_blum_numbers(N)\n",
    "print(f\"Các số Blum nhỏ hơn {N} là: {blum_numbers}\")\n",
    "\n",
    "blum_pairs = find_blum_pairs(blum_numbers, N)\n",
    "print(f\"Các cặp số Blum có tổng cũng là số Blum nhỏ hơn {N}: {blum_pairs}\")\n",
    "\n",
    "if is_blum_number_in_list(blum_numbers, M):\n",
    "    print(f\"Số {M} là một số Blum và có trong danh sách.\")\n",
    "else:\n",
    "    print(f\"Số {M} không có trong danh sách số Blum.\")\n"
   ]
  }
 ],
 "metadata": {
  "kernelspec": {
   "display_name": "tranphong",
   "language": "python",
   "name": "python3"
  },
  "language_info": {
   "codemirror_mode": {
    "name": "ipython",
    "version": 3
   },
   "file_extension": ".py",
   "mimetype": "text/x-python",
   "name": "python",
   "nbconvert_exporter": "python",
   "pygments_lexer": "ipython3",
   "version": "3.12.4"
  }
 },
 "nbformat": 4,
 "nbformat_minor": 2
}
