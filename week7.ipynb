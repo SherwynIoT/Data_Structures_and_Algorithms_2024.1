{
 "cells": [
  {
   "cell_type": "code",
   "execution_count": 12,
   "metadata": {},
   "outputs": [
    {
     "name": "stdout",
     "output_type": "stream",
     "text": [
      "[5, 7, 10, 15, 27, 30, 98, 121, 201, 204, 303, 308]\n",
      "[5, 7, 10, 15, 27, 30, 98, 121, 201, 204, 303, 308]\n"
     ]
    }
   ],
   "source": [
    "def mergeArray(arr1, arr2):\n",
    "    result = [0] * (len(arr1) + len(arr2))\n",
    "    i,j = 0,0\n",
    "    while i < len(arr1) and j < len(arr2):\n",
    "        if arr1[i] <= arr2[j]:\n",
    "            result[i+j] = arr1[i]\n",
    "            i += 1\n",
    "        else:\n",
    "            result[i+j] = arr2[j]\n",
    "            j += 1\n",
    "\n",
    "    while i < len(arr1):\n",
    "        result[i+j] = arr1[i]\n",
    "        i += 1\n",
    "    \n",
    "    while j < len(arr2):\n",
    "        result[i+j] = arr2[j]\n",
    "        j += 1\n",
    "    print(result)\n",
    "    return result\n",
    "\n",
    "arr1 = [15,30,201,303]\n",
    "arr2 = [5,7,10,27,98,121,204,308]\n",
    "print(mergeArray(arr1, arr2))"
   ]
  },
  {
   "cell_type": "code",
   "execution_count": 13,
   "metadata": {},
   "outputs": [
    {
     "name": "stdout",
     "output_type": "stream",
     "text": [
      "[240]\n",
      "[51]\n",
      "[73]\n",
      "[51, 73]\n",
      "[51, 73, 240]\n",
      "[101]\n",
      "[21]\n",
      "[13]\n",
      "[13, 21]\n",
      "[13, 21, 101]\n",
      "[13, 21, 51, 73, 101, 240]\n",
      "[25]\n",
      "[11]\n",
      "[37]\n",
      "[11, 37]\n",
      "[11, 25, 37]\n",
      "[89]\n",
      "[30]\n",
      "[15]\n",
      "[15, 30]\n",
      "[15, 30, 89]\n",
      "[11, 15, 25, 30, 37, 89]\n",
      "[11, 13, 15, 21, 25, 30, 37, 51, 73, 89, 101, 240]\n"
     ]
    },
    {
     "data": {
      "text/plain": [
       "[11, 13, 15, 21, 25, 30, 37, 51, 73, 89, 101, 240]"
      ]
     },
     "execution_count": 13,
     "metadata": {},
     "output_type": "execute_result"
    }
   ],
   "source": [
    "def splitArray(arr):\n",
    "    if len(arr) <= 1:\n",
    "        print(arr)\n",
    "        return arr\n",
    "    mid = len(arr) // 2\n",
    "    left = splitArray(arr[:mid])\n",
    "    right = splitArray(arr[mid:])\n",
    "    return mergeArray(left, right)\n",
    "\n",
    "def mergeSort(arr):\n",
    "    if len(arr) <= 1:\n",
    "        return arr\n",
    "    return splitArray(arr)\n",
    "\n",
    "\n",
    "arr = [240, 51, 73, 101, 21, 13, 25, 11, 37, 89, 30, 15]\n",
    "mergeSort(arr)"
   ]
  },
  {
   "cell_type": "code",
   "execution_count": null,
   "metadata": {},
   "outputs": [],
   "source": []
  }
 ],
 "metadata": {
  "kernelspec": {
   "display_name": "tranphong",
   "language": "python",
   "name": "python3"
  },
  "language_info": {
   "codemirror_mode": {
    "name": "ipython",
    "version": 3
   },
   "file_extension": ".py",
   "mimetype": "text/x-python",
   "name": "python",
   "nbconvert_exporter": "python",
   "pygments_lexer": "ipython3",
   "version": "undefined.undefined.undefined"
  }
 },
 "nbformat": 4,
 "nbformat_minor": 2
}
